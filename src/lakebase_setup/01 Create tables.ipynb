{
 "cells": [
  {
   "cell_type": "code",
   "execution_count": 0,
   "metadata": {
    "application/vnd.databricks.v1+cell": {
     "cellMetadata": {},
     "inputWidgets": {},
     "nuid": "32c87105-6a2a-438e-8260-5d6d8b5ae04a",
     "showTitle": false,
     "tableResultSettingsMap": {},
     "title": ""
    }
   },
   "outputs": [],
   "source": [
    "%pip install -r requirements.txt\n",
    "%restart_python"
   ]
  },
  {
   "cell_type": "code",
   "execution_count": 0,
   "metadata": {
    "application/vnd.databricks.v1+cell": {
     "cellMetadata": {},
     "inputWidgets": {},
     "nuid": "929e5611-bb93-4ee7-8bed-b2dd141a7937",
     "showTitle": false,
     "tableResultSettingsMap": {},
     "title": ""
    }
   },
   "outputs": [],
   "source": [
    "%load_ext autoreload\n",
    "%autoreload 2\n",
    "\n",
    "from lakebase_utils import LakebaseConnection"
   ]
  },
  {
   "cell_type": "code",
   "execution_count": 0,
   "metadata": {
    "application/vnd.databricks.v1+cell": {
     "cellMetadata": {},
     "inputWidgets": {},
     "nuid": "9de72aa7-9547-4f78-873f-bc83f6b45084",
     "showTitle": false,
     "tableResultSettingsMap": {},
     "title": ""
    }
   },
   "outputs": [],
   "source": [
    "dbutils.widgets.text(\"user\", \"lars.liahagen@databricks.com\")\n",
    "username = dbutils.widgets.get(\"user\")\n",
    "dbutils.widgets.text(\"lakebase_instance_name\", \"smart-stock-db\")\n",
    "lakebase_instance_name = dbutils.widgets.get(\"lakebase_instance_name\")"
   ]
  },
  {
   "cell_type": "code",
   "execution_count": 0,
   "metadata": {
    "application/vnd.databricks.v1+cell": {
     "cellMetadata": {},
     "inputWidgets": {},
     "nuid": "f76d4c8c-9e43-4d32-a3f1-8a1885d2eecd",
     "showTitle": false,
     "tableResultSettingsMap": {},
     "title": ""
    }
   },
   "outputs": [],
   "source": [
    "conn = LakebaseConnection(username, lakebase_instance_name)\n",
    "conn.create_role_with_permissions(\"lakebase_demo_app\", \"lakebasedemo2025\")"
   ]
  },
  {
   "cell_type": "code",
   "execution_count": 0,
   "metadata": {
    "application/vnd.databricks.v1+cell": {
     "cellMetadata": {},
     "inputWidgets": {},
     "nuid": "4c16a0d1-72f0-462e-b09b-b2f021293207",
     "showTitle": false,
     "tableResultSettingsMap": {},
     "title": ""
    }
   },
   "outputs": [],
   "source": [
    "ddls = [\n",
    "\"DROP TABLE IF EXISTS inventory_transactions CASCADE;\",\n",
    "\"DROP TABLE IF EXISTS inventory_historical CASCADE;\"\n",
    "\"DROP TABLE IF EXISTS inventory_forecast CASCADE;\",\n",
    "\"DROP TABLE IF EXISTS warehouses CASCADE;\",\n",
    "\"DROP TABLE IF EXISTS products CASCADE;\",\n",
    "\"\"\"\n",
    "CREATE TABLE warehouses (\n",
    "\twarehouse_id serial primary key,\n",
    "\tname varchar(100) not null,\n",
    "\tlocation varchar(200),\n",
    "\tmanager_id integer,\n",
    "\ttimezone varchar(50) default 'utc',\n",
    "\tcreated_at TIMESTAMP DEFAULT CURRENT_TIMESTAMP,\n",
    "    updated_at TIMESTAMP DEFAULT CURRENT_TIMESTAMP\n",
    ");\n",
    "\"\"\",\n",
    "\"\"\"\n",
    "CREATE TABLE products (\n",
    "\tproduct_id SERIAL primary key,\n",
    "\tname VARCHAR(100) not null,\n",
    "\tdescription text,\n",
    "\tsku varchar(50) unique not null,\n",
    "\tprice decimal(10, 2) not null check (price >= 0),\n",
    "\tunit varchar(20) default 'piece',\n",
    "\tcategory varchar(50),\n",
    "\treorder_level integer default 10,\n",
    "\tcreated_at TIMESTAMP DEFAULT CURRENT_TIMESTAMP,\n",
    "    updated_at TIMESTAMP DEFAULT CURRENT_TIMESTAMP\n",
    ");\n",
    "\"\"\",\n",
    "\"\"\"\n",
    "CREATE TABLE inventory_transactions (\n",
    "\ttransaction_id serial primary key,\n",
    "\ttransaction_number varchar(50) unique not null,\n",
    "\tproduct_id integer not null references products(product_id),\n",
    "\twarehouse_id integer not null references warehouses(warehouse_id),\n",
    "\tquantity_change integer not null,\n",
    "\ttransaction_type varchar(50) check (transaction_type in ('inbound', 'sale', 'adjustment')),\n",
    "\tstatus varchar(20) default 'pending' check (status in ('pending', 'confirmed', 'processing', 'shipped', 'delivered', 'cancelled')),\n",
    "\tnotes TEXT,\n",
    "\ttransaction_timestamp timestamp default current_timestamp,\n",
    "\tupdated_at TIMESTAMP DEFAULT CURRENT_TIMESTAMP\n",
    ");\n",
    "\"\"\",\n",
    "\"\"\"\n",
    "CREATE TABLE inventory_historical (\n",
    "\tinventory_id serial primary key,\n",
    "\tproduct_id integer not null references products(product_id),\n",
    "\twarehouse_id integer not null references warehouses(warehouse_id),\n",
    "\tdate date not null,\n",
    "\tinventory_level integer not null,\n",
    "\tupdated_at TIMESTAMP DEFAULT CURRENT_TIMESTAMP\n",
    ")\n",
    "\"\"\",\n",
    "\"\"\"\n",
    "CREATE TABLE inventory_forecast (\n",
    "\tforecast_id serial primary key,\n",
    "\tproduct_id integer not null references products(product_id),\n",
    "\twarehouse_id integer not null references warehouses(warehouse_id),\n",
    "\tcurrent_stock integer,\n",
    "\tforecast_30_days integer,\n",
    "\treorder_point integer,\n",
    "\treorder_quantity integer,\n",
    "\tconfidence_score DECIMAL(3, 2) CHECK (confidence_score >= 0 AND confidence_score <= 1),\n",
    "    status VARCHAR(20) DEFAULT 'active' CHECK (status IN ('active', 'pending', 'expired')),\n",
    "    last_updated TIMESTAMP DEFAULT CURRENT_TIMESTAMP,\n",
    "    UNIQUE(product_id, warehouse_id)\n",
    ");\n",
    "\"\"\",\n",
    "]\n",
    "\n",
    "for ddl in ddls:\n",
    "    conn.execute_statement(ddl)"
   ]
  },
  {
   "cell_type": "code",
   "execution_count": 0,
   "metadata": {
    "application/vnd.databricks.v1+cell": {
     "cellMetadata": {},
     "inputWidgets": {},
     "nuid": "3f23b79d-a0d1-4018-b3f5-fc5b3f6f93b4",
     "showTitle": false,
     "tableResultSettingsMap": {},
     "title": ""
    }
   },
   "outputs": [],
   "source": [
    "conn.execute_query(f\"SELECT * FROM pg_tables WHERE tableowner = '{username}'\")"
   ]
  }
 ],
 "metadata": {
  "application/vnd.databricks.v1+notebook": {
   "computePreferences": null,
   "dashboards": [],
   "environmentMetadata": null,
   "inputWidgetPreferences": null,
   "language": "python",
   "notebookMetadata": {
    "pythonIndentUnit": 4
   },
   "notebookName": "01 Create tables",
   "widgets": {}
  },
  "language_info": {
   "name": "python"
  }
 },
 "nbformat": 4,
 "nbformat_minor": 0
}