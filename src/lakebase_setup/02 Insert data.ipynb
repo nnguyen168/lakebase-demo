{
 "cells": [
  {
   "cell_type": "code",
   "execution_count": 0,
   "metadata": {
    "application/vnd.databricks.v1+cell": {
     "cellMetadata": {},
     "inputWidgets": {},
     "nuid": "41e9ceff-3ea6-46bd-bcdc-3f4eb67e1eb1",
     "showTitle": false,
     "tableResultSettingsMap": {},
     "title": ""
    }
   },
   "outputs": [],
   "source": [
    "%pip install -r requirements.txt\n",
    "%restart_python"
   ]
  },
  {
   "cell_type": "code",
   "execution_count": 0,
   "metadata": {
    "application/vnd.databricks.v1+cell": {
     "cellMetadata": {},
     "inputWidgets": {},
     "nuid": "b8ed1fd7-618f-4ba2-b0ae-e5130f4ca6c2",
     "showTitle": false,
     "tableResultSettingsMap": {},
     "title": ""
    }
   },
   "outputs": [],
   "source": [
    "%load_ext autoreload\n",
    "%autoreload 2\n",
    "\n",
    "from lakebase_utils import LakebaseConnection\n",
    "from data_generator.data_generator import generate_data"
   ]
  },
  {
   "cell_type": "code",
   "execution_count": 0,
   "metadata": {
    "application/vnd.databricks.v1+cell": {
     "cellMetadata": {},
     "inputWidgets": {},
     "nuid": "7faa4099-e1ef-4e33-bf3c-7b50ad723110",
     "showTitle": false,
     "tableResultSettingsMap": {},
     "title": ""
    }
   },
   "outputs": [],
   "source": [
    "dbutils.widgets.text(\"user\", \"lars.liahagen@databricks.com\")\n",
    "username = dbutils.widgets.get(\"user\")\n",
    "dbutils.widgets.text(\"lakebase_instance_name\", \"smart-stock-db\")\n",
    "lakebase_instance_name = dbutils.widgets.get(\"lakebase_instance_name\")\n",
    "\n",
    "conn = LakebaseConnection(username, lakebase_instance_name)"
   ]
  },
  {
   "cell_type": "markdown",
   "metadata": {
    "application/vnd.databricks.v1+cell": {
     "cellMetadata": {},
     "inputWidgets": {},
     "nuid": "523e7cef-7cd3-4346-97b6-4642f518792c",
     "showTitle": false,
     "tableResultSettingsMap": {},
     "title": ""
    }
   },
   "source": [
    "\n",
    "# Generate data"
   ]
  },
  {
   "cell_type": "code",
   "execution_count": 0,
   "metadata": {
    "application/vnd.databricks.v1+cell": {
     "cellMetadata": {},
     "inputWidgets": {},
     "nuid": "1b881105-aeb1-4357-a118-f5a4cfdef17b",
     "showTitle": false,
     "tableResultSettingsMap": {},
     "title": ""
    }
   },
   "outputs": [],
   "source": [
    "generate_data()"
   ]
  },
  {
   "cell_type": "markdown",
   "metadata": {
    "application/vnd.databricks.v1+cell": {
     "cellMetadata": {},
     "inputWidgets": {},
     "nuid": "c680743c-4061-41f9-9b98-9bd186bdae69",
     "showTitle": false,
     "tableResultSettingsMap": {},
     "title": ""
    }
   },
   "source": [
    "\n",
    "# Insert data"
   ]
  },
  {
   "cell_type": "code",
   "execution_count": 0,
   "metadata": {
    "application/vnd.databricks.v1+cell": {
     "cellMetadata": {},
     "inputWidgets": {},
     "nuid": "d490f3dc-fdab-4303-b1a3-2f039b180fd0",
     "showTitle": false,
     "tableResultSettingsMap": {},
     "title": ""
    }
   },
   "outputs": [],
   "source": [
    "def csv_to_lakebase(file_path, table_name, lakebase_conn):\n",
    "    with lakebase_conn.pool.connection() as conn:\n",
    "        with conn.cursor() as cur:\n",
    "            with open(file_path) as f:\n",
    "                header = f.readline()\n",
    "                with cur.copy(f\"COPY {table_name}({header}) FROM stdin (format csv, delimiter ',')\") as copy:\n",
    "                    copy.write(f.read())\n",
    "\n",
    "def reload_tables(conn):\n",
    "    conn.execute_statement(\n",
    "    \"\"\"\n",
    "    TRUNCATE TABLE inventory_transactions CASCADE;\n",
    "    TRUNCATE TABLE inventory_historical CASCADE;\n",
    "    TRUNCATE TABLE products CASCADE;\n",
    "    TRUNCATE TABLE warehouses CASCADE;\n",
    "    ALTER SEQUENCE inventory_transactions_transaction_id_seq RESTART WITH 1;\n",
    "    ALTER SEQUENCE inventory_historical_inventory_id_seq RESTART WITH 1;\n",
    "    ALTER SEQUENCE products_product_id_seq RESTART WITH 1;\n",
    "    ALTER SEQUENCE warehouses_warehouse_id_seq RESTART WITH 1;\n",
    "    \"\"\"\n",
    "    )\n",
    "    csv_to_lakebase(\"data_generator/products.csv\", \"products\", conn)\n",
    "    csv_to_lakebase(\"data_generator/warehouses.csv\", \"warehouses\", conn)\n",
    "    csv_to_lakebase(\"data_generator/historical_transactions.csv\", \"inventory_transactions\", conn)\n",
    "    csv_to_lakebase(\"data_generator/historical_inventory_levels.csv\", \"inventory_historical\", conn)\n",
    "\n",
    "reload_tables(conn)"
   ]
  },
  {
   "cell_type": "markdown",
   "metadata": {
    "application/vnd.databricks.v1+cell": {
     "cellMetadata": {},
     "inputWidgets": {},
     "nuid": "37dfcf81-3958-49e3-9b94-d850e535ac4c",
     "showTitle": false,
     "tableResultSettingsMap": {},
     "title": ""
    }
   },
   "source": [
    "\n",
    "# Validate"
   ]
  },
  {
   "cell_type": "code",
   "execution_count": 0,
   "metadata": {
    "application/vnd.databricks.v1+cell": {
     "cellMetadata": {},
     "inputWidgets": {},
     "nuid": "defc3df0-ce0e-48db-8a86-726bc877f9ad",
     "showTitle": false,
     "tableResultSettingsMap": {},
     "title": ""
    }
   },
   "outputs": [],
   "source": [
    "conn.execute_query(\"SELECT * FROM products LIMIT 10\")"
   ]
  },
  {
   "cell_type": "code",
   "execution_count": 0,
   "metadata": {
    "application/vnd.databricks.v1+cell": {
     "cellMetadata": {},
     "inputWidgets": {},
     "nuid": "bc7dfd23-c30f-4e3e-8330-e6ceccfdb331",
     "showTitle": false,
     "tableResultSettingsMap": {},
     "title": ""
    }
   },
   "outputs": [],
   "source": [
    "conn.execute_query(\"SELECT * FROM warehouses LIMIT 10\")"
   ]
  },
  {
   "cell_type": "code",
   "execution_count": 0,
   "metadata": {
    "application/vnd.databricks.v1+cell": {
     "cellMetadata": {},
     "inputWidgets": {},
     "nuid": "ad2ab8e4-fcb5-450d-89c0-c89ef0bd203a",
     "showTitle": false,
     "tableResultSettingsMap": {},
     "title": ""
    }
   },
   "outputs": [],
   "source": [
    "conn.execute_query(\"SELECT * FROM inventory_transactions LIMIT 10\")"
   ]
  },
  {
   "cell_type": "code",
   "execution_count": 0,
   "metadata": {
    "application/vnd.databricks.v1+cell": {
     "cellMetadata": {},
     "inputWidgets": {},
     "nuid": "25155bd1-59cd-4129-a1a1-0812905e3c96",
     "showTitle": false,
     "tableResultSettingsMap": {},
     "title": ""
    }
   },
   "outputs": [],
   "source": [
    "conn.execute_query(\"SELECT * FROM inventory_historical LIMIT 10\")"
   ]
  },
  {
   "cell_type": "code",
   "execution_count": 0,
   "metadata": {
    "application/vnd.databricks.v1+cell": {
     "cellMetadata": {},
     "inputWidgets": {},
     "nuid": "a9afaa47-2a45-4147-abdb-1d6a64d0f766",
     "showTitle": false,
     "tableResultSettingsMap": {},
     "title": ""
    }
   },
   "outputs": [],
   "source": [
    "conn.execute_query(\"SELECT COUNT(*) FROM inventory_transactions\")"
   ]
  }
 ],
 "metadata": {
  "application/vnd.databricks.v1+notebook": {
   "computePreferences": null,
   "dashboards": [],
   "environmentMetadata": null,
   "inputWidgetPreferences": null,
   "language": "python",
   "notebookMetadata": {},
   "notebookName": "02 Insert data",
   "widgets": {}
  },
  "language_info": {
   "name": "python"
  }
 },
 "nbformat": 4,
 "nbformat_minor": 0
}