{
 "cells": [
  {
   "cell_type": "code",
   "execution_count": null,
   "metadata": {},
   "outputs": [],
   "source": [
    "%pip install -r requirements.txt\n",
    "%restart_python"
   ]
  },
  {
   "cell_type": "code",
   "execution_count": 0,
   "metadata": {
    "application/vnd.databricks.v1+cell": {
     "cellMetadata": {
      "byteLimit": 2048000,
      "rowLimit": 10000
     },
     "inputWidgets": {},
     "nuid": "a5aa192e-15fc-4426-8c71-98fc2eac24ff",
     "showTitle": false,
     "tableResultSettingsMap": {},
     "title": ""
    }
   },
   "outputs": [],
   "source": [
    "from pyspark.sql.functions import *\n",
    "from pyspark.sql.types import *\n",
    "from delta.tables import DeltaTable\n",
    "from datetime import datetime, timedelta\n",
    "import time"
   ]
  },
  {
   "cell_type": "code",
   "execution_count": null,
   "metadata": {},
   "outputs": [],
   "source": [
    "%load_ext autoreload\n",
    "%autoreload 2\n",
    "\n",
    "from lakebase_utils import LakebaseConnection"
   ]
  },
  {
   "cell_type": "code",
   "execution_count": null,
   "metadata": {},
   "outputs": [],
   "source": [
    "dbutils.widgets.text(\"user\", \"lars.liahagen@databricks.com\")\n",
    "username = dbutils.widgets.get(\"user\")\n",
    "dbutils.widgets.text(\"lakebase_instance_name\", \"smart-stock-db\")\n",
    "lakebase_instance_name = dbutils.widgets.get(\"lakebase_instance_name\")\n",
    "dbutils.widgets.text(\"catalog\", \"smart_stock\")\n",
    "catalog = dbutils.widgets.get(\"catalog\")\n",
    "dbutils.widgets.text(\"schema_silver\", \"smart_stock_silver\")\n",
    "schema_silver = dbutils.widgets.get(\"schema_silver\")\n",
    "dbutils.widgets.text(\"schema_gold\", \"smart_stock_gold\")\n",
    "schema_gold = dbutils.widgets.get(\"schema_gold\")\n"
   ]
  },
  {
   "cell_type": "code",
   "execution_count": 0,
   "metadata": {
    "application/vnd.databricks.v1+cell": {
     "cellMetadata": {
      "byteLimit": 2048000,
      "rowLimit": 10000
     },
     "inputWidgets": {},
     "nuid": "d22c9c9b-98be-43bb-a58d-33fe2f5ad7ce",
     "showTitle": false,
     "tableResultSettingsMap": {},
     "title": ""
    }
   },
   "outputs": [
    {
     "name": "stdout",
     "output_type": "stream",
     "text": [
      "✅ Setup complete\n"
     ]
    }
   ],
   "source": [
    "# =============================================\n",
    "# CONFIGURATION\n",
    "# =============================================\n",
    "\n",
    "# PostgreSQL connection\n",
    "conn = LakebaseConnection(username, lakebase_instance_name)\n",
    "\n",
    "print(\"✅ Setup complete\")"
   ]
  },
  {
   "cell_type": "code",
   "execution_count": 0,
   "metadata": {
    "application/vnd.databricks.v1+cell": {
     "cellMetadata": {
      "byteLimit": 2048000,
      "rowLimit": 10000
     },
     "inputWidgets": {},
     "nuid": "00b476e6-57d5-4fa6-894e-cfa4371710b6",
     "showTitle": false,
     "tableResultSettingsMap": {},
     "title": ""
    }
   },
   "outputs": [],
   "source": [
    "def update_dim_products():\n",
    "    \"\"\"\n",
    "    Update product dimension table - Run once daily at 6 AM\n",
    "    Simple full refresh since products table is small\n",
    "    \"\"\"\n",
    "    \n",
    "    print(f\"\\n📦 Updating dim_products at {datetime.now()}\")\n",
    "    \n",
    "    # Read all products from PostgreSQL\n",
    "    products_df = conn.execute_query(\"SELECT * FROM products\")\n",
    "    if products_df.empty:\n",
    "        print(\"  ℹ️ No products found\")\n",
    "        return 0\n",
    "    products_df = spark.createDataFrame(products_df)\n",
    "    \n",
    "    # Create dimension with business logic\n",
    "    dim_products = products_df.select(\n",
    "        col(\"product_id\"),\n",
    "        col(\"name\").alias(\"product_name\"),\n",
    "        col(\"category\"),\n",
    "        col(\"sku\"),\n",
    "        col(\"price\"),\n",
    "        col(\"unit\"),\n",
    "        col(\"reorder_level\"),\n",
    "        # Add derived columns for easier reporting\n",
    "        when(col(\"price\") >= 500, \"High Value\") \\\n",
    "            .when(col(\"price\") >= 100, \"Medium Value\") \\\n",
    "            .otherwise(\"Low Value\").alias(\"price_tier\"),\n",
    "        when(col(\"category\").isin(\"Motors\", \"Batteries\", \"Frames\"), \"Core Component\") \\\n",
    "            .when(col(\"category\").isin(\"Wheels\", \"Brakes\", \"Drivetrain\"), \"Major Component\") \\\n",
    "            .otherwise(\"Accessory\").alias(\"component_type\"),\n",
    "        current_timestamp().alias(\"last_updated\")\n",
    "    )\n",
    "    \n",
    "    # Overwrite dimension table (products don't change often)\n",
    "    dim_products.write \\\n",
    "        .mode(\"overwrite\") \\\n",
    "        .option(\"overwriteSchema\", \"true\") \\\n",
    "        .saveAsTable(f\"`{catalog}`.`{schema_silver}`.dim_products\")\n",
    "    \n",
    "    record_count = dim_products.count()\n",
    "    print(f\"✅ Updated dim_products with {record_count} products\")\n",
    "    \n",
    "    return record_count\n"
   ]
  },
  {
   "cell_type": "code",
   "execution_count": 0,
   "metadata": {
    "application/vnd.databricks.v1+cell": {
     "cellMetadata": {
      "byteLimit": 2048000,
      "rowLimit": 10000
     },
     "inputWidgets": {},
     "nuid": "6560f494-f5f5-4ea9-ba7d-c846aa130589",
     "showTitle": false,
     "tableResultSettingsMap": {},
     "title": ""
    }
   },
   "outputs": [
    {
     "name": "stdout",
     "output_type": "stream",
     "text": [
      "\n",
      "📦 Updating dim_products at 2025-09-16 08:00:44.364715\n",
      "✅ Updated dim_products with 41 products\n"
     ]
    },
    {
     "data": {
      "text/plain": [
       "41"
      ]
     },
     "execution_count": 13,
     "metadata": {},
     "output_type": "execute_result"
    }
   ],
   "source": [
    "update_dim_products()"
   ]
  }
 ],
 "metadata": {
  "application/vnd.databricks.v1+notebook": {
   "computePreferences": {
    "hardware": {
     "accelerator": null,
     "gpuPoolId": null,
     "memory": null
    }
   },
   "dashboards": [],
   "environmentMetadata": {
    "base_environment": "",
    "environment_version": "3"
   },
   "inputWidgetPreferences": null,
   "language": "python",
   "notebookMetadata": {
    "pythonIndentUnit": 2
   },
   "notebookName": "dim_products",
   "widgets": {}
  },
  "language_info": {
   "name": "python"
  }
 },
 "nbformat": 4,
 "nbformat_minor": 0
}
