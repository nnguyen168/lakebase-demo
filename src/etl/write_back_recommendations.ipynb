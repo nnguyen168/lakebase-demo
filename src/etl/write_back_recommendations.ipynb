{
 "cells": [
  {
   "cell_type": "code",
   "execution_count": 0,
   "metadata": {
    "application/vnd.databricks.v1+cell": {
     "cellMetadata": {
      "byteLimit": 2048000,
      "rowLimit": 10000
     },
     "inputWidgets": {},
     "nuid": "1b66adf2-b089-46a1-a404-a9bcbb2fa21e",
     "showTitle": false,
     "tableResultSettingsMap": {},
     "title": ""
    }
   },
   "outputs": [],
   "source": [
    "%pip install -r requirements.txt\n",
    "%restart_python"
   ]
  },
  {
   "cell_type": "code",
   "execution_count": 0,
   "metadata": {
    "application/vnd.databricks.v1+cell": {
     "cellMetadata": {
      "byteLimit": 2048000,
      "rowLimit": 10000
     },
     "inputWidgets": {},
     "nuid": "182e6526-4634-4f3d-8d3b-f361820f5db3",
     "showTitle": false,
     "tableResultSettingsMap": {},
     "title": ""
    }
   },
   "outputs": [],
   "source": [
    "%load_ext autoreload\n",
    "%autoreload 2\n",
    "\n",
    "from lakebase_utils import LakebaseConnection\n",
    "import pandas as pd"
   ]
  },
  {
   "cell_type": "code",
   "execution_count": 0,
   "metadata": {
    "application/vnd.databricks.v1+cell": {
     "cellMetadata": {
      "byteLimit": 2048000,
      "rowLimit": 10000
     },
     "inputWidgets": {},
     "nuid": "4ce3fd0d-fbd6-4937-b06a-748c67bc6eac",
     "showTitle": false,
     "tableResultSettingsMap": {},
     "title": ""
    }
   },
   "outputs": [],
   "source": [
    "dbutils.widgets.text(\"user\", \"lars.liahagen@databricks.com\")\n",
    "username = dbutils.widgets.get(\"user\")\n",
    "dbutils.widgets.text(\"lakebase_instance_name\", \"smart-stock-db\")\n",
    "lakebase_instance_name = dbutils.widgets.get(\"lakebase_instance_name\")\n",
    "dbutils.widgets.text(\"catalog\", \"smart_stock\")\n",
    "catalog = dbutils.widgets.get(\"catalog\")\n",
    "dbutils.widgets.text(\"schema_forecast\", \"forecast\")\n",
    "schema_forecast = dbutils.widgets.get(\"schema_forecast\")\n",
    "\n",
    "conn = LakebaseConnection(username, lakebase_instance_name)"
   ]
  },
  {
   "cell_type": "code",
   "execution_count": 0,
   "metadata": {
    "application/vnd.databricks.v1+cell": {
     "cellMetadata": {
      "byteLimit": 2048000,
      "rowLimit": 10000
     },
     "inputWidgets": {},
     "nuid": "8e2c621b-8bbd-42a0-9783-3dba3c8461a0",
     "showTitle": false,
     "tableResultSettingsMap": {},
     "title": ""
    }
   },
   "outputs": [],
   "source": [
    "recommendations = spark.table(f\"{catalog}.{schema_forecast}.inventory_forecast\")\n",
    "df_rec = recommendations.toPandas()"
   ]
  },
  {
   "cell_type": "code",
   "execution_count": 0,
   "metadata": {
    "application/vnd.databricks.v1+cell": {
     "cellMetadata": {
      "byteLimit": 2048000,
      "rowLimit": 10000
     },
     "inputWidgets": {},
     "nuid": "47722e92-fe59-47a9-90d8-66257022d110",
     "showTitle": false,
     "tableResultSettingsMap": {},
     "title": ""
    }
   },
   "outputs": [],
   "source": [
    "table_name = \"inventory_forecast\"\n",
    "cols = [\n",
    "    \"product_id\",\n",
    "    \"warehouse_id\",\n",
    "    \"current_stock\",\n",
    "    \"forecast_30_days\",\n",
    "    \"reorder_point\",\n",
    "    \"reorder_quantity\",\n",
    "    \"confidence_score\"\n",
    "]\n",
    "\n",
    "values_sql = []\n",
    "for row in df_rec.itertuples():\n",
    "    vals = []\n",
    "    for col in cols:\n",
    "        val = getattr(row, col)\n",
    "        if pd.isnull(val):\n",
    "            vals.append('NULL')\n",
    "        elif isinstance(val, str):\n",
    "            vals.append(f\"'{val.replace(\"'\", \"''\")}'\")\n",
    "        elif isinstance(val, int):\n",
    "            vals.append(f\"{val}\")\n",
    "        elif isinstance(val, float):\n",
    "            vals.append(f\"{val:.2f}\")\n",
    "        else:\n",
    "            vals.append(str(int(val)))\n",
    "    values_sql.append(f\"({', '.join(vals)})\")\n",
    "\n",
    "insert_sql = f\"\"\"\n",
    "INSERT INTO {table_name} ({', '.join(cols)})\n",
    "VALUES\\n  {',\\n  '.join(values_sql)}\n",
    "ON CONFLICT (product_id, warehouse_id)\n",
    "DO UPDATE SET\n",
    "  current_stock = EXCLUDED.current_stock,\n",
    "  forecast_30_days = EXCLUDED.forecast_30_days,\n",
    "  reorder_point = EXCLUDED.reorder_point,\n",
    "  reorder_quantity = EXCLUDED.reorder_quantity,\n",
    "  confidence_score = EXCLUDED.confidence_score;\n",
    "\"\"\"\n",
    "\n",
    "print(insert_sql)"
   ]
  },
  {
   "cell_type": "code",
   "execution_count": 0,
   "metadata": {
    "application/vnd.databricks.v1+cell": {
     "cellMetadata": {
      "byteLimit": 2048000,
      "rowLimit": 10000
     },
     "inputWidgets": {},
     "nuid": "c66610e6-6ccf-4a56-9566-e222c56814e8",
     "showTitle": false,
     "tableResultSettingsMap": {},
     "title": ""
    }
   },
   "outputs": [],
   "source": [
    "conn.execute_statement(insert_sql)\n",
    "print(\"Recommendations successfully written back to Postgres!\")"
   ]
  }
 ],
 "metadata": {
  "application/vnd.databricks.v1+notebook": {
   "computePreferences": null,
   "dashboards": [],
   "environmentMetadata": {
    "base_environment": "",
    "environment_version": "3"
   },
   "inputWidgetPreferences": null,
   "language": "python",
   "notebookMetadata": {
    "pythonIndentUnit": 4
   },
   "notebookName": "write_back_recommendations",
   "widgets": {
    "catalog": {
     "currentValue": "smart_stock",
     "nuid": "522c6de6-fcbe-4f5c-b08b-fb4a8a86c363",
     "typedWidgetInfo": {
      "autoCreated": false,
      "defaultValue": "smart_stock",
      "label": null,
      "name": "catalog",
      "options": {
       "validationRegex": null,
       "widgetDisplayType": "Text"
      },
      "parameterDataType": "String"
     },
     "widgetInfo": {
      "defaultValue": "smart_stock",
      "label": null,
      "name": "catalog",
      "options": {
       "autoCreated": null,
       "validationRegex": null,
       "widgetType": "text"
      },
      "widgetType": "text"
     }
    },
    "lakebase_instance_name": {
     "currentValue": "smart-stock-db",
     "nuid": "bc2fff3a-b736-4df4-b9f3-4971d052ef83",
     "typedWidgetInfo": {
      "autoCreated": false,
      "defaultValue": "smart-stock-db",
      "label": null,
      "name": "lakebase_instance_name",
      "options": {
       "validationRegex": null,
       "widgetDisplayType": "Text"
      },
      "parameterDataType": "String"
     },
     "widgetInfo": {
      "defaultValue": "smart-stock-db",
      "label": null,
      "name": "lakebase_instance_name",
      "options": {
       "autoCreated": null,
       "validationRegex": null,
       "widgetType": "text"
      },
      "widgetType": "text"
     }
    },
    "schema_forecast": {
     "currentValue": "forecast",
     "nuid": "36b905b0-dbec-4cc2-a527-f6769e7cd425",
     "typedWidgetInfo": {
      "autoCreated": false,
      "defaultValue": "forecast",
      "label": null,
      "name": "schema_forecast",
      "options": {
       "validationRegex": null,
       "widgetDisplayType": "Text"
      },
      "parameterDataType": "String"
     },
     "widgetInfo": {
      "defaultValue": "forecast",
      "label": null,
      "name": "schema_forecast",
      "options": {
       "autoCreated": false,
       "validationRegex": null,
       "widgetType": "text"
      },
      "widgetType": "text"
     }
    },
    "schema_silver": {
     "currentValue": "silver",
     "nuid": "1385be3b-6052-4920-aee5-cd1789572ec7",
     "typedWidgetInfo": {
      "autoCreated": false,
      "defaultValue": "silver",
      "label": null,
      "name": "schema_silver",
      "options": {
       "validationRegex": null,
       "widgetDisplayType": "Text"
      },
      "parameterDataType": "String"
     },
     "widgetInfo": {
      "defaultValue": "silver",
      "label": null,
      "name": "schema_silver",
      "options": {
       "autoCreated": null,
       "validationRegex": null,
       "widgetType": "text"
      },
      "widgetType": "text"
     }
    },
    "user": {
     "currentValue": "lars.liahagen@databricks.com",
     "nuid": "622272e9-8850-4a06-b094-c6f539baa8ac",
     "typedWidgetInfo": {
      "autoCreated": false,
      "defaultValue": "lars.liahagen@databricks.com",
      "label": null,
      "name": "user",
      "options": {
       "validationRegex": null,
       "widgetDisplayType": "Text"
      },
      "parameterDataType": "String"
     },
     "widgetInfo": {
      "defaultValue": "lars.liahagen@databricks.com",
      "label": null,
      "name": "user",
      "options": {
       "autoCreated": null,
       "validationRegex": null,
       "widgetType": "text"
      },
      "widgetType": "text"
     }
    }
   }
  },
  "language_info": {
   "name": "python"
  }
 },
 "nbformat": 4,
 "nbformat_minor": 0
}
