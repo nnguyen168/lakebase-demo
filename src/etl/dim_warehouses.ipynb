{
 "cells": [
  {
   "cell_type": "code",
   "execution_count": null,
   "metadata": {},
   "outputs": [],
   "source": [
    "%pip install -r requirements.txt\n",
    "%restart_python"
   ]
  },
  {
   "cell_type": "code",
   "execution_count": 0,
   "metadata": {
    "application/vnd.databricks.v1+cell": {
     "cellMetadata": {
      "byteLimit": 2048000,
      "rowLimit": 10000
     },
     "inputWidgets": {},
     "nuid": "08df46d2-1a96-40b6-b2e5-dca5d7ea99fd",
     "showTitle": false,
     "tableResultSettingsMap": {},
     "title": ""
    }
   },
   "outputs": [],
   "source": [
    "from pyspark.sql.functions import *\n",
    "from pyspark.sql.types import *\n",
    "from datetime import datetime"
   ]
  },
  {
   "cell_type": "code",
   "execution_count": null,
   "metadata": {},
   "outputs": [],
   "source": [
    "%load_ext autoreload\n",
    "%autoreload 2\n",
    "\n",
    "from lakebase_utils import LakebaseConnection"
   ]
  },
  {
   "cell_type": "code",
   "execution_count": null,
   "metadata": {},
   "outputs": [],
   "source": [
    "dbutils.widgets.text(\"user\", \"lars.liahagen@databricks.com\")\n",
    "username = dbutils.widgets.get(\"user\")\n",
    "dbutils.widgets.text(\"lakebase_instance_name\", \"smart-stock-db\")\n",
    "lakebase_instance_name = dbutils.widgets.get(\"lakebase_instance_name\")\n",
    "dbutils.widgets.text(\"catalog\", \"smart_stock\")\n",
    "catalog = dbutils.widgets.get(\"catalog\")\n",
    "dbutils.widgets.text(\"schema_silver\", \"smart_stock_silver\")\n",
    "schema_silver = dbutils.widgets.get(\"schema_silver\")\n",
    "dbutils.widgets.text(\"schema_gold\", \"smart_stock_gold\")\n",
    "schema_gold = dbutils.widgets.get(\"schema_gold\")\n"
   ]
  },
  {
   "cell_type": "code",
   "execution_count": 0,
   "metadata": {
    "application/vnd.databricks.v1+cell": {
     "cellMetadata": {
      "byteLimit": 2048000,
      "rowLimit": 10000
     },
     "inputWidgets": {},
     "nuid": "5f564bc8-9608-4e09-b09f-6c0949194e9a",
     "showTitle": false,
     "tableResultSettingsMap": {},
     "title": ""
    }
   },
   "outputs": [
    {
     "name": "stdout",
     "output_type": "stream",
     "text": [
      "✅ Setup complete\n"
     ]
    }
   ],
   "source": [
    "# =============================================\n",
    "# CONFIGURATION\n",
    "# =============================================\n",
    "\n",
    "# PostgreSQL connection\n",
    "conn = LakebaseConnection(username, lakebase_instance_name)\n",
    "\n",
    "print(\"✅ Setup complete\")"
   ]
  },
  {
   "cell_type": "code",
   "execution_count": 0,
   "metadata": {
    "application/vnd.databricks.v1+cell": {
     "cellMetadata": {
      "byteLimit": 2048000,
      "rowLimit": 10000
     },
     "inputWidgets": {},
     "nuid": "24e709d2-fea4-4f5c-8d5a-8c725fd866d3",
     "showTitle": false,
     "tableResultSettingsMap": {},
     "title": ""
    }
   },
   "outputs": [],
   "source": [
    "def update_dim_warehouses():\n",
    "    \"\"\"\n",
    "    Update warehouse dimension table - Run once daily at 6 AM\n",
    "    Simple full refresh since warehouses table is small\n",
    "    \"\"\"\n",
    "    \n",
    "    print(f\"\\n📦 Updating dim_warehouses at {datetime.now()}\")\n",
    "    \n",
    "    # Read all warehouses from PostgreSQL\n",
    "    warehouses_df = conn.execute_query(\"SELECT * FROM warehouses\")\n",
    "    if warehouses_df.empty:\n",
    "        print(\"  ℹ️ No warehouses found\")\n",
    "        return 0\n",
    "    warehouses_df = spark.createDataFrame(warehouses_df)\n",
    "    \n",
    "    # Create dimension with business logic\n",
    "    dim_warehouses = warehouses_df.select(\n",
    "        col(\"warehouse_id\"),\n",
    "        col(\"name\").alias(\"warehouse_name\"),\n",
    "        col(\"location\"),\n",
    "        col(\"manager_id\"),\n",
    "        col(\"timezone\"),\n",
    "        current_timestamp().alias(\"last_updated\")\n",
    "    )\n",
    "    \n",
    "    # Overwrite dimension table (products don't change often)\n",
    "    dim_warehouses.write \\\n",
    "        .mode(\"overwrite\") \\\n",
    "        .option(\"overwriteSchema\", \"true\") \\\n",
    "        .saveAsTable(f\"`{catalog}`.`{schema_silver}`.dim_warehouses\")\n",
    "    \n",
    "    record_count = dim_warehouses.count()\n",
    "    print(f\"✅ Updated dim_warehouses with {record_count} warehouses\")\n",
    "    \n",
    "    return record_count\n"
   ]
  },
  {
   "cell_type": "code",
   "execution_count": 0,
   "metadata": {
    "application/vnd.databricks.v1+cell": {
     "cellMetadata": {
      "byteLimit": 2048000,
      "rowLimit": 10000
     },
     "inputWidgets": {},
     "nuid": "bc030b63-0b88-4b2e-8984-e078924ec7a4",
     "showTitle": false,
     "tableResultSettingsMap": {},
     "title": ""
    }
   },
   "outputs": [
    {
     "name": "stdout",
     "output_type": "stream",
     "text": [
      "\n",
      "📦 Updating dim_warehouses at 2025-09-16 16:04:11.988894\n",
      "✅ Updated dim_warehouses with 3 warehouses\n"
     ]
    },
    {
     "data": {
      "text/plain": [
       "3"
      ]
     },
     "execution_count": 6,
     "metadata": {},
     "output_type": "execute_result"
    }
   ],
   "source": [
    "update_dim_warehouses()"
   ]
  },
  {
   "cell_type": "code",
   "execution_count": 0,
   "metadata": {
    "application/vnd.databricks.v1+cell": {
     "cellMetadata": {},
     "inputWidgets": {},
     "nuid": "b8c39686-5817-4017-b707-b302f0c591dc",
     "showTitle": false,
     "tableResultSettingsMap": {},
     "title": ""
    }
   },
   "outputs": [],
   "source": []
  }
 ],
 "metadata": {
  "application/vnd.databricks.v1+notebook": {
   "computePreferences": {
    "hardware": {
     "accelerator": null,
     "gpuPoolId": null,
     "memory": null
    }
   },
   "dashboards": [],
   "environmentMetadata": {
    "base_environment": "",
    "environment_version": "3"
   },
   "inputWidgetPreferences": null,
   "language": "python",
   "notebookMetadata": {
    "pythonIndentUnit": 2
   },
   "notebookName": "dim_warehouses",
   "widgets": {}
  },
  "language_info": {
   "name": "python"
  }
 },
 "nbformat": 4,
 "nbformat_minor": 0
}
