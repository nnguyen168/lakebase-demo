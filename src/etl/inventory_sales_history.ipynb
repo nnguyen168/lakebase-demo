{
 "cells": [
  {
   "cell_type": "code",
   "execution_count": 0,
   "metadata": {
    "application/vnd.databricks.v1+cell": {
     "cellMetadata": {},
     "inputWidgets": {},
     "nuid": "0c32a34d-fe49-48c5-8ced-dc6b56334cd6",
     "showTitle": false,
     "tableResultSettingsMap": {},
     "title": ""
    }
   },
   "outputs": [],
   "source": [
    "%pip install psycopg[binary,pool] databricks-sdk>=0.65.0\n",
    "%restart_python"
   ]
  },
  {
   "cell_type": "code",
   "execution_count": 0,
   "metadata": {
    "application/vnd.databricks.v1+cell": {
     "cellMetadata": {},
     "inputWidgets": {},
     "nuid": "dbb82c4d-0e14-4ba5-ac27-24c350116ce0",
     "showTitle": false,
     "tableResultSettingsMap": {},
     "title": ""
    }
   },
   "outputs": [],
   "source": [
    "%load_ext autoreload\n",
    "%autoreload 2\n",
    "\n",
    "from lakebase_utils import LakebaseConnection"
   ]
  },
  {
   "cell_type": "code",
   "execution_count": 0,
   "metadata": {
    "application/vnd.databricks.v1+cell": {
     "cellMetadata": {},
     "inputWidgets": {},
     "nuid": "79ab0c27-1a7d-450e-b210-4e0abe99b791",
     "showTitle": false,
     "tableResultSettingsMap": {},
     "title": ""
    }
   },
   "outputs": [],
   "source": [
    "dbutils.widgets.text(\"user\", \"lars.liahagen@databricks.com\")\n",
    "username = dbutils.widgets.get(\"user\")\n",
    "dbutils.widgets.text(\"lakebase_instance_name\", \"smart-stock-db\")\n",
    "lakebase_instance_name = dbutils.widgets.get(\"lakebase_instance_name\")\n",
    "dbutils.widgets.text(\"catalog\", \"smart_stock\")\n",
    "catalog = dbutils.widgets.get(\"catalog\")\n",
    "dbutils.widgets.text(\"schema_silver\", \"smart_stock_silver\")\n",
    "schema_silver = dbutils.widgets.get(\"schema_silver\")\n",
    "\n",
    "conn = LakebaseConnection(username, lakebase_instance_name)\n"
   ]
  },
  {
   "cell_type": "code",
   "execution_count": 0,
   "metadata": {
    "application/vnd.databricks.v1+cell": {
     "cellMetadata": {},
     "inputWidgets": {},
     "nuid": "e4414c05-5baf-4889-849c-c3251523161c",
     "showTitle": false,
     "tableResultSettingsMap": {},
     "title": ""
    }
   },
   "outputs": [],
   "source": [
    "df_transactions = conn.execute_query(\"SELECT * FROM inventory_transactions\")\n",
    "df_transactions.head(10)"
   ]
  },
  {
   "cell_type": "code",
   "execution_count": 0,
   "metadata": {
    "application/vnd.databricks.v1+cell": {
     "cellMetadata": {},
     "inputWidgets": {},
     "nuid": "76f0bccc-8788-4423-9177-b16db95f4ac5",
     "showTitle": false,
     "tableResultSettingsMap": {},
     "title": ""
    }
   },
   "outputs": [],
   "source": [
    "df_products = conn.execute_query(\"SELECT * FROM products\")\n",
    "df_warehouses = conn.execute_query(\"SELECT * FROM warehouses\")\n",
    "df_historical_inventory = conn.execute_query(\"SELECT * FROM inventory_historical\")"
   ]
  },
  {
   "cell_type": "markdown",
   "metadata": {
    "application/vnd.databricks.v1+cell": {
     "cellMetadata": {},
     "inputWidgets": {},
     "nuid": "adcc9412-200f-4b07-84eb-32c9e5ae312f",
     "showTitle": false,
     "tableResultSettingsMap": {},
     "title": ""
    }
   },
   "source": [
    "\n",
    "## Calculate inventory and sales history"
   ]
  },
  {
   "cell_type": "code",
   "execution_count": 0,
   "metadata": {
    "application/vnd.databricks.v1+cell": {
     "cellMetadata": {},
     "inputWidgets": {},
     "nuid": "cf6ced65-2f17-4099-befe-969fa9d661f6",
     "showTitle": false,
     "tableResultSettingsMap": {},
     "title": ""
    }
   },
   "outputs": [],
   "source": [
    "historical_sales_query = \"\"\"\n",
    "WITH RECURSIVE all_dates(transaction_date) AS (\n",
    "    SELECT MIN(DATE(transaction_timestamp))::date AS transaction_date\n",
    "    FROM inventory_transactions\n",
    "    UNION ALL\n",
    "    SELECT (transaction_date + INTERVAL '1 day')::date\n",
    "    FROM all_dates\n",
    "    WHERE (transaction_date + INTERVAL '1 day')::date <= (\n",
    "        SELECT MAX(DATE(transaction_timestamp))::date FROM inventory_transactions\n",
    "    )\n",
    "),\n",
    "warehouse_products AS (\n",
    "    SELECT DISTINCT warehouse_id, product_id FROM inventory_transactions\n",
    "),\n",
    "daily_inventory AS (\n",
    "    SELECT\n",
    "        warehouse_id,\n",
    "        product_id,\n",
    "        DATE(transaction_timestamp) AS transaction_date,\n",
    "        SUM(quantity_change) AS daily_quantity_change\n",
    "    FROM inventory_transactions\n",
    "    WHERE transaction_type = 'sale'\n",
    "    GROUP BY warehouse_id, product_id, DATE(transaction_timestamp)\n",
    "),\n",
    "calendar AS (\n",
    "    SELECT\n",
    "        wp.warehouse_id,\n",
    "        wp.product_id,\n",
    "        ad.transaction_date\n",
    "    FROM warehouse_products wp\n",
    "    CROSS JOIN all_dates ad\n",
    "),\n",
    "weekly_sales AS (\n",
    "    SELECT\n",
    "        c.warehouse_id,\n",
    "        c.product_id,\n",
    "        DATE_TRUNC('week', c.transaction_date) AS week_start,\n",
    "        COALESCE(-di.daily_quantity_change, 0) AS daily_sales\n",
    "    FROM calendar c\n",
    "    LEFT JOIN daily_inventory di\n",
    "        ON c.warehouse_id = di.warehouse_id\n",
    "        AND c.product_id = di.product_id\n",
    "        AND c.transaction_date = di.transaction_date\n",
    ")\n",
    "SELECT\n",
    "    warehouse_id,\n",
    "    product_id,\n",
    "    week_start,\n",
    "    SUM(daily_sales) AS weekly_sales\n",
    "FROM weekly_sales\n",
    "GROUP BY warehouse_id, product_id, week_start\n",
    "ORDER BY warehouse_id, product_id, week_start\n",
    "\"\"\"\n",
    "df_historical_sales = conn.execute_query(historical_sales_query)\n",
    "df_historical_sales.head(10)"
   ]
  },
  {
   "cell_type": "markdown",
   "metadata": {
    "application/vnd.databricks.v1+cell": {
     "cellMetadata": {},
     "inputWidgets": {},
     "nuid": "f7247737-4f10-458a-8449-4cc6adae5dee",
     "showTitle": false,
     "tableResultSettingsMap": {},
     "title": ""
    }
   },
   "source": [
    "\n",
    "## Write to Delta"
   ]
  },
  {
   "cell_type": "code",
   "execution_count": 0,
   "metadata": {
    "application/vnd.databricks.v1+cell": {
     "cellMetadata": {},
     "inputWidgets": {},
     "nuid": "9d49b8bf-930b-4f20-a011-5d53e7b68e9f",
     "showTitle": false,
     "tableResultSettingsMap": {},
     "title": ""
    }
   },
   "outputs": [],
   "source": [
    "spark.sql(f\"CREATE CATALOG IF NOT EXISTS {catalog}\")\n",
    "spark.sql(f\"CREATE SCHEMA IF NOT EXISTS {catalog}.{schema_silver}\")"
   ]
  },
  {
   "cell_type": "code",
   "execution_count": 0,
   "metadata": {
    "application/vnd.databricks.v1+cell": {
     "cellMetadata": {},
     "inputWidgets": {},
     "nuid": "0c1f4aca-f7db-4a30-8b4a-db3eed369bd5",
     "showTitle": false,
     "tableResultSettingsMap": {},
     "title": ""
    }
   },
   "outputs": [],
   "source": [
    "sdf_historical_sales = spark.createDataFrame(df_historical_sales)\n",
    "sdf_historical_sales.write.mode(\"overwrite\").saveAsTable(f\"{catalog}.{schema_silver}.sales_history\")"
   ]
  },
  {
   "cell_type": "code",
   "execution_count": 0,
   "metadata": {
    "application/vnd.databricks.v1+cell": {
     "cellMetadata": {},
     "inputWidgets": {},
     "nuid": "8fcad9ea-2006-4e22-b8fe-b5cb71510168",
     "showTitle": false,
     "tableResultSettingsMap": {},
     "title": ""
    }
   },
   "outputs": [],
   "source": [
    "spark.createDataFrame(df_historical_inventory).write.mode(\"overwrite\").saveAsTable(f\"{catalog}.{schema_silver}.inventory_history\")"
   ]
  }
 ],
 "metadata": {
  "application/vnd.databricks.v1+notebook": {
   "computePreferences": null,
   "dashboards": [],
   "environmentMetadata": null,
   "inputWidgetPreferences": null,
   "language": "python",
   "notebookMetadata": {},
   "notebookName": "03 Inventory Data Extraction",
   "widgets": {}
  },
  "language_info": {
   "name": "python"
  }
 },
 "nbformat": 4,
 "nbformat_minor": 0
}
